{
  "metadata": {
    "kernelspec": {
      "name": "python",
      "display_name": "Python (Pyodide)",
      "language": "python"
    },
    "language_info": {
      "codemirror_mode": {
        "name": "python",
        "version": 3
      },
      "file_extension": ".py",
      "mimetype": "text/x-python",
      "name": "python",
      "nbconvert_exporter": "python",
      "pygments_lexer": "ipython3",
      "version": "3.8"
    }
  },
  "nbformat_minor": 5,
  "nbformat": 4,
  "cells": [
    {
      "id": "d16472a0-a9e2-4754-8ada-e3e2f5f224df",
      "cell_type": "code",
      "source": "import pandas as pd\nimport matplotlib.pyplot as plt\nimport seaborn as sns\nimport nltk\nimport re\nfrom collections import Counter\nfrom nltk.corpus import stopwords\nfrom nltk.tokenize import word_tokenize\n\nnltk.download('punkt')\nnltk.download('stopwords')\n\n%matplotlib inline\n\n\ndf = pd.read_csv(\"../data/tracks.csv\")\ndf.head()\n\nplt.figure(figsize=(8,6))\nsns.scatterplot(data=df, x='duration', y='popularity')\nplt.title('Зависимость популярности от длительности трека')\nplt.xlabel('Длительность (сек)')\nplt.ylabel('Популярность')\nplt.show()\n\nprint(\"Коэффициент корреляции:\")\nprint(df[['duration', 'popularity']].corr())\n\n\ndef clean_text(text):\n    text = text.lower()\n    text = re.sub(r'[^a-zа-яё\\s]', '', text)\n    tokens = word_tokenize(text)\n    tokens = [token for token in tokens if token not in stopwords.words('english') \n              and token not in stopwords.words('russian')]\n    return tokens\n\nall_words = []\nfor lyrics in df['lyrics'].dropna():\n    tokens = clean_text(lyrics)\n    all_words.extend(tokens)\n    \ncounter = Counter(all_words)\ntop_words = counter.most_common(20)\n\nprint(\"Топ-20 слов:\")\nfor word, count in top_words:\n    print(f\"{word}: {count}\")\n\n\nwords, counts = zip(*top_words)\nplt.figure(figsize=(10,6))\nsns.barplot(x=list(counts), y=list(words), palette=\"viridis\")\nplt.title(\"Топ-20 часто встречающихся слов\")\nplt.xlabel(\"Количество вхождений\")\nplt.ylabel(\"Слова\")\nplt.show()",
      "metadata": {
        "trusted": true
      },
      "outputs": [],
      "execution_count": null
    }
  ]
}