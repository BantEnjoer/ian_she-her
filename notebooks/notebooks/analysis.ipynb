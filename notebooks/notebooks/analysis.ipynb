# Анализ данных
import pandas as pd
import matplotlib.pyplot as plt
from wordcloud import WordCloud
import seaborn as sns

# Загрузка данных
df = pd.read_csv('../data/processed/tracks_clean.csv')

# 1. График зависимости популярности от длительности
plt.figure(figsize=(10, 6))
sns.regplot(x='duration_min', y='popularity', data=df)
plt.title('Зависимость популярности от длительности трека')
plt.savefig('../dashboard/assets/duration_vs_popularity.png')

# 2. Облако слов
text = ' '.join(df['lyrics'])
wordcloud = WordCloud().generate(text)
plt.figure(figsize=(10, 6))
plt.imshow(wordcloud)
plt.axis('off')
plt.savefig('../dashboard/assets/wordcloud.png')
